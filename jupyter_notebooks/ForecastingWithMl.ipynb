{
 "cells": [
  {
   "attachments": {},
   "cell_type": "markdown",
   "metadata": {},
   "source": [
    "# **Forecasting with machine learning**"
   ]
  },
  {
   "attachments": {},
   "cell_type": "markdown",
   "metadata": {},
   "source": [
    "## Objectives\n",
    "\n",
    "* use and ml model to forecast apple stock market data"
   ]
  },
  {
   "attachments": {},
   "cell_type": "markdown",
   "metadata": {},
   "source": [
    "## Accessing and visualising data"
   ]
  },
  {
   "cell_type": "code",
   "execution_count": 12,
   "metadata": {},
   "outputs": [],
   "source": [
    "# Importing the libraries\n",
    "import numpy as np\n",
    "import matplotlib.pyplot as plt\n",
    "plt.style.use('fivethirtyeight')\n",
    "import pandas as pd\n",
    "from sklearn.preprocessing import MinMaxScaler\n",
    "from keras.models import Sequential\n",
    "from keras.layers import Dense, LSTM, Dropout, GRU, Bidirectional\n",
    "from keras.optimizers import SGD\n",
    "import math\n",
    "from sklearn.metrics import mean_squared_error"
   ]
  },
  {
   "cell_type": "code",
   "execution_count": 13,
   "metadata": {},
   "outputs": [],
   "source": [
    "# Some functions to help out with plotting\n",
    "def plot_predictions(test,predicted):\n",
    "    plt.plot(test, color='red',label='Real Apple Stock Price')\n",
    "    plt.plot(predicted, color='blue',label='Predicted Apple Stock Price')\n",
    "    plt.title('Apple Stock Price Prediction')\n",
    "    plt.xlabel('Time')\n",
    "    plt.ylabel('Apple Stock Price')\n",
    "    plt.legend()\n",
    "    plt.show()\n",
    "\n",
    "def return_rmse(test,predicted):\n",
    "    rmse = math.sqrt(mean_squared_error(test, predicted))\n",
    "    print(\"The root mean squared error is {}.\".format(rmse))"
   ]
  },
  {
   "cell_type": "code",
   "execution_count": 14,
   "metadata": {},
   "outputs": [
    {
     "ename": "ValueError",
     "evalue": "Invalid frequency: Date",
     "output_type": "error",
     "traceback": [
      "\u001b[0;31m---------------------------------------------------------------------------\u001b[0m",
      "\u001b[0;31mKeyError\u001b[0m                                  Traceback (most recent call last)",
      "File \u001b[0;32m/workspace/.pyenv_mirror/user/current/lib/python3.8/site-packages/pandas/_libs/tslibs/offsets.pyx:3878\u001b[0m, in \u001b[0;36mpandas._libs.tslibs.offsets._get_offset\u001b[0;34m()\u001b[0m\n",
      "\u001b[0;31mKeyError\u001b[0m: 'DATE'",
      "\nThe above exception was the direct cause of the following exception:\n",
      "\u001b[0;31mValueError\u001b[0m                                Traceback (most recent call last)",
      "File \u001b[0;32m/workspace/.pyenv_mirror/user/current/lib/python3.8/site-packages/pandas/_libs/tslibs/offsets.pyx:3979\u001b[0m, in \u001b[0;36mpandas._libs.tslibs.offsets.to_offset\u001b[0;34m()\u001b[0m\n",
      "File \u001b[0;32m/workspace/.pyenv_mirror/user/current/lib/python3.8/site-packages/pandas/_libs/tslibs/offsets.pyx:3884\u001b[0m, in \u001b[0;36mpandas._libs.tslibs.offsets._get_offset\u001b[0;34m()\u001b[0m\n",
      "\u001b[0;31mValueError\u001b[0m: Invalid frequency: DATE",
      "\nThe above exception was the direct cause of the following exception:\n",
      "\u001b[0;31mValueError\u001b[0m                                Traceback (most recent call last)",
      "Cell \u001b[0;32mIn[14], line 13\u001b[0m\n\u001b[1;32m      4\u001b[0m path \u001b[39m=\u001b[39m Path(\u001b[39m'\u001b[39m\u001b[39m../stockdata/AAPL_2006-01-01_to_2018-01-01.csv\u001b[39m\u001b[39m'\u001b[39m)\n\u001b[1;32m      6\u001b[0m apple_stock \u001b[39m=\u001b[39m pd\u001b[39m.\u001b[39mread_csv(\n\u001b[1;32m      7\u001b[0m     path,\n\u001b[1;32m      8\u001b[0m     usecols\u001b[39m=\u001b[39m[\u001b[39m'\u001b[39m\u001b[39mDate\u001b[39m\u001b[39m'\u001b[39m,\u001b[39m'\u001b[39m\u001b[39mClose\u001b[39m\u001b[39m'\u001b[39m],\n\u001b[1;32m      9\u001b[0m     parse_dates \u001b[39m=\u001b[39m[\u001b[39m'\u001b[39m\u001b[39mDate\u001b[39m\u001b[39m'\u001b[39m],\n\u001b[1;32m     10\u001b[0m     index_col\u001b[39m=\u001b[39m\u001b[39m'\u001b[39m\u001b[39mDate\u001b[39m\u001b[39m'\u001b[39m,\n\u001b[1;32m     11\u001b[0m ) \n\u001b[0;32m---> 13\u001b[0m y \u001b[39m=\u001b[39m apple_stock\u001b[39m.\u001b[39;49mloc[:, \u001b[39m'\u001b[39;49m\u001b[39mClose\u001b[39;49m\u001b[39m'\u001b[39;49m]\u001b[39m.\u001b[39;49mdropna()\u001b[39m.\u001b[39;49mto_period(\u001b[39m'\u001b[39;49m\u001b[39mDate\u001b[39;49m\u001b[39m'\u001b[39;49m)\n\u001b[1;32m     15\u001b[0m df \u001b[39m=\u001b[39m pd\u001b[39m.\u001b[39mDataFrame\n",
      "File \u001b[0;32m/workspace/.pyenv_mirror/user/current/lib/python3.8/site-packages/pandas/core/series.py:5944\u001b[0m, in \u001b[0;36mSeries.to_period\u001b[0;34m(self, freq, copy)\u001b[0m\n\u001b[1;32m   5942\u001b[0m \u001b[39mif\u001b[39;00m \u001b[39mnot\u001b[39;00m \u001b[39misinstance\u001b[39m(\u001b[39mself\u001b[39m\u001b[39m.\u001b[39mindex, DatetimeIndex):\n\u001b[1;32m   5943\u001b[0m     \u001b[39mraise\u001b[39;00m \u001b[39mTypeError\u001b[39;00m(\u001b[39mf\u001b[39m\u001b[39m\"\u001b[39m\u001b[39munsupported Type \u001b[39m\u001b[39m{\u001b[39;00m\u001b[39mtype\u001b[39m(\u001b[39mself\u001b[39m\u001b[39m.\u001b[39mindex)\u001b[39m.\u001b[39m\u001b[39m__name__\u001b[39m\u001b[39m}\u001b[39;00m\u001b[39m\"\u001b[39m)\n\u001b[0;32m-> 5944\u001b[0m new_index \u001b[39m=\u001b[39m \u001b[39mself\u001b[39;49m\u001b[39m.\u001b[39;49mindex\u001b[39m.\u001b[39;49mto_period(freq\u001b[39m=\u001b[39;49mfreq)\n\u001b[1;32m   5945\u001b[0m \u001b[39mreturn\u001b[39;00m \u001b[39mself\u001b[39m\u001b[39m.\u001b[39m_constructor(new_values, index\u001b[39m=\u001b[39mnew_index)\u001b[39m.\u001b[39m__finalize__(\n\u001b[1;32m   5946\u001b[0m     \u001b[39mself\u001b[39m, method\u001b[39m=\u001b[39m\u001b[39m\"\u001b[39m\u001b[39mto_period\u001b[39m\u001b[39m\"\u001b[39m\n\u001b[1;32m   5947\u001b[0m )\n",
      "File \u001b[0;32m/workspace/.pyenv_mirror/user/current/lib/python3.8/site-packages/pandas/core/indexes/extension.py:98\u001b[0m, in \u001b[0;36m_inherit_from_data.<locals>.method\u001b[0;34m(self, *args, **kwargs)\u001b[0m\n\u001b[1;32m     96\u001b[0m \u001b[39mif\u001b[39;00m \u001b[39m\"\u001b[39m\u001b[39minplace\u001b[39m\u001b[39m\"\u001b[39m \u001b[39min\u001b[39;00m kwargs:\n\u001b[1;32m     97\u001b[0m     \u001b[39mraise\u001b[39;00m \u001b[39mValueError\u001b[39;00m(\u001b[39mf\u001b[39m\u001b[39m\"\u001b[39m\u001b[39mcannot use inplace with \u001b[39m\u001b[39m{\u001b[39;00m\u001b[39mtype\u001b[39m(\u001b[39mself\u001b[39m)\u001b[39m.\u001b[39m\u001b[39m__name__\u001b[39m\u001b[39m}\u001b[39;00m\u001b[39m\"\u001b[39m)\n\u001b[0;32m---> 98\u001b[0m result \u001b[39m=\u001b[39m attr(\u001b[39mself\u001b[39;49m\u001b[39m.\u001b[39;49m_data, \u001b[39m*\u001b[39;49margs, \u001b[39m*\u001b[39;49m\u001b[39m*\u001b[39;49mkwargs)\n\u001b[1;32m     99\u001b[0m \u001b[39mif\u001b[39;00m wrap:\n\u001b[1;32m    100\u001b[0m     \u001b[39mif\u001b[39;00m \u001b[39misinstance\u001b[39m(result, \u001b[39mtype\u001b[39m(\u001b[39mself\u001b[39m\u001b[39m.\u001b[39m_data)):\n",
      "File \u001b[0;32m/workspace/.pyenv_mirror/user/current/lib/python3.8/site-packages/pandas/core/arrays/datetimes.py:1137\u001b[0m, in \u001b[0;36mDatetimeArray.to_period\u001b[0;34m(self, freq)\u001b[0m\n\u001b[1;32m   1133\u001b[0m         res \u001b[39m=\u001b[39m freq\n\u001b[1;32m   1135\u001b[0m     freq \u001b[39m=\u001b[39m res\n\u001b[0;32m-> 1137\u001b[0m \u001b[39mreturn\u001b[39;00m PeriodArray\u001b[39m.\u001b[39;49m_from_datetime64(\u001b[39mself\u001b[39;49m\u001b[39m.\u001b[39;49m_ndarray, freq, tz\u001b[39m=\u001b[39;49m\u001b[39mself\u001b[39;49m\u001b[39m.\u001b[39;49mtz)\n",
      "File \u001b[0;32m/workspace/.pyenv_mirror/user/current/lib/python3.8/site-packages/pandas/core/arrays/period.py:298\u001b[0m, in \u001b[0;36mPeriodArray._from_datetime64\u001b[0;34m(cls, data, freq, tz)\u001b[0m\n\u001b[1;32m    283\u001b[0m \u001b[39m@classmethod\u001b[39m\n\u001b[1;32m    284\u001b[0m \u001b[39mdef\u001b[39;00m \u001b[39m_from_datetime64\u001b[39m(\u001b[39mcls\u001b[39m, data, freq, tz\u001b[39m=\u001b[39m\u001b[39mNone\u001b[39;00m) \u001b[39m-\u001b[39m\u001b[39m>\u001b[39m PeriodArray:\n\u001b[1;32m    285\u001b[0m \u001b[39m    \u001b[39m\u001b[39m\"\"\"\u001b[39;00m\n\u001b[1;32m    286\u001b[0m \u001b[39m    Construct a PeriodArray from a datetime64 array\u001b[39;00m\n\u001b[1;32m    287\u001b[0m \n\u001b[0;32m   (...)\u001b[0m\n\u001b[1;32m    296\u001b[0m \u001b[39m    PeriodArray[freq]\u001b[39;00m\n\u001b[1;32m    297\u001b[0m \u001b[39m    \"\"\"\u001b[39;00m\n\u001b[0;32m--> 298\u001b[0m     data, freq \u001b[39m=\u001b[39m dt64arr_to_periodarr(data, freq, tz)\n\u001b[1;32m    299\u001b[0m     \u001b[39mreturn\u001b[39;00m \u001b[39mcls\u001b[39m(data, freq\u001b[39m=\u001b[39mfreq)\n",
      "File \u001b[0;32m/workspace/.pyenv_mirror/user/current/lib/python3.8/site-packages/pandas/core/arrays/period.py:1065\u001b[0m, in \u001b[0;36mdt64arr_to_periodarr\u001b[0;34m(data, freq, tz)\u001b[0m\n\u001b[1;32m   1062\u001b[0m     data \u001b[39m=\u001b[39m data\u001b[39m.\u001b[39m_values\n\u001b[1;32m   1064\u001b[0m reso \u001b[39m=\u001b[39m get_unit_from_dtype(data\u001b[39m.\u001b[39mdtype)\n\u001b[0;32m-> 1065\u001b[0m freq \u001b[39m=\u001b[39m Period\u001b[39m.\u001b[39;49m_maybe_convert_freq(freq)\n\u001b[1;32m   1066\u001b[0m base \u001b[39m=\u001b[39m freq\u001b[39m.\u001b[39m_period_dtype_code\n\u001b[1;32m   1067\u001b[0m \u001b[39mreturn\u001b[39;00m c_dt64arr_to_periodarr(data\u001b[39m.\u001b[39mview(\u001b[39m\"\u001b[39m\u001b[39mi8\u001b[39m\u001b[39m\"\u001b[39m), base, tz, reso\u001b[39m=\u001b[39mreso), freq\n",
      "File \u001b[0;32m/workspace/.pyenv_mirror/user/current/lib/python3.8/site-packages/pandas/_libs/tslibs/period.pyx:1640\u001b[0m, in \u001b[0;36mpandas._libs.tslibs.period._Period._maybe_convert_freq\u001b[0;34m()\u001b[0m\n",
      "File \u001b[0;32m/workspace/.pyenv_mirror/user/current/lib/python3.8/site-packages/pandas/_libs/tslibs/offsets.pyx:3987\u001b[0m, in \u001b[0;36mpandas._libs.tslibs.offsets.to_offset\u001b[0;34m()\u001b[0m\n",
      "\u001b[0;31mValueError\u001b[0m: Invalid frequency: Date"
     ]
    }
   ],
   "source": [
    "from pathlib import Path\n",
    "import pandas as pd\n",
    "\n",
    "path = Path('../stockdata/AAPL_2006-01-01_to_2018-01-01.csv')\n",
    "\n",
    "apple_stock = pd.read_csv(\n",
    "    path,\n",
    "    usecols=['Date','Close'],\n",
    "    parse_dates =['Date'],\n",
    "    index_col='Date',\n",
    ") \n",
    "\n",
    "y = apple_stock.loc[:, 'Close'].dropna().to_period('Date')\n",
    "\n",
    "df = pd.DataFrame"
   ]
  },
  {
   "cell_type": "code",
   "execution_count": 8,
   "metadata": {},
   "outputs": [],
   "source": [
    "training_set = apple_stock[:'2016'].iloc[:,1:2].values\n",
    "test_set = apple_stock['2017':].iloc[:,1:2].values"
   ]
  },
  {
   "cell_type": "code",
   "execution_count": 9,
   "metadata": {},
   "outputs": [
    {
     "name": "stdout",
     "output_type": "stream",
     "text": [
      "[]\n"
     ]
    }
   ],
   "source": [
    "print(training_set)"
   ]
  },
  {
   "cell_type": "code",
   "execution_count": 10,
   "metadata": {},
   "outputs": [
    {
     "ename": "KeyError",
     "evalue": "'Close'",
     "output_type": "error",
     "traceback": [
      "\u001b[0;31m---------------------------------------------------------------------------\u001b[0m",
      "\u001b[0;31mKeyError\u001b[0m                                  Traceback (most recent call last)",
      "File \u001b[0;32m/workspace/.pyenv_mirror/user/current/lib/python3.8/site-packages/pandas/core/indexes/base.py:3802\u001b[0m, in \u001b[0;36mIndex.get_loc\u001b[0;34m(self, key, method, tolerance)\u001b[0m\n\u001b[1;32m   3801\u001b[0m \u001b[39mtry\u001b[39;00m:\n\u001b[0;32m-> 3802\u001b[0m     \u001b[39mreturn\u001b[39;00m \u001b[39mself\u001b[39;49m\u001b[39m.\u001b[39;49m_engine\u001b[39m.\u001b[39;49mget_loc(casted_key)\n\u001b[1;32m   3803\u001b[0m \u001b[39mexcept\u001b[39;00m \u001b[39mKeyError\u001b[39;00m \u001b[39mas\u001b[39;00m err:\n",
      "File \u001b[0;32m/workspace/.pyenv_mirror/user/current/lib/python3.8/site-packages/pandas/_libs/index.pyx:138\u001b[0m, in \u001b[0;36mpandas._libs.index.IndexEngine.get_loc\u001b[0;34m()\u001b[0m\n",
      "File \u001b[0;32m/workspace/.pyenv_mirror/user/current/lib/python3.8/site-packages/pandas/_libs/index.pyx:165\u001b[0m, in \u001b[0;36mpandas._libs.index.IndexEngine.get_loc\u001b[0;34m()\u001b[0m\n",
      "File \u001b[0;32mpandas/_libs/hashtable_class_helper.pxi:5745\u001b[0m, in \u001b[0;36mpandas._libs.hashtable.PyObjectHashTable.get_item\u001b[0;34m()\u001b[0m\n",
      "File \u001b[0;32mpandas/_libs/hashtable_class_helper.pxi:5753\u001b[0m, in \u001b[0;36mpandas._libs.hashtable.PyObjectHashTable.get_item\u001b[0;34m()\u001b[0m\n",
      "\u001b[0;31mKeyError\u001b[0m: 'Close'",
      "\nThe above exception was the direct cause of the following exception:\n",
      "\u001b[0;31mKeyError\u001b[0m                                  Traceback (most recent call last)",
      "Cell \u001b[0;32mIn[10], line 2\u001b[0m\n\u001b[1;32m      1\u001b[0m \u001b[39m# Plot of Close attribute for stock prices for train and test sets\u001b[39;00m\n\u001b[0;32m----> 2\u001b[0m apple_stock[\u001b[39m\"\u001b[39;49m\u001b[39mClose\u001b[39;49m\u001b[39m\"\u001b[39;49m][:\u001b[39m'\u001b[39m\u001b[39m2016\u001b[39m\u001b[39m'\u001b[39m]\u001b[39m.\u001b[39mplot(figsize\u001b[39m=\u001b[39m(\u001b[39m16\u001b[39m,\u001b[39m4\u001b[39m),legend\u001b[39m=\u001b[39m\u001b[39mTrue\u001b[39;00m)\n\u001b[1;32m      3\u001b[0m apple_stock[\u001b[39m\"\u001b[39m\u001b[39mClose\u001b[39m\u001b[39m\"\u001b[39m][\u001b[39m'\u001b[39m\u001b[39m2017\u001b[39m\u001b[39m'\u001b[39m:]\u001b[39m.\u001b[39mplot(figsize\u001b[39m=\u001b[39m(\u001b[39m16\u001b[39m,\u001b[39m4\u001b[39m),legend\u001b[39m=\u001b[39m\u001b[39mTrue\u001b[39;00m)\n\u001b[1;32m      4\u001b[0m plt\u001b[39m.\u001b[39mlegend([\u001b[39m'\u001b[39m\u001b[39mTraining set (Before 2017)\u001b[39m\u001b[39m'\u001b[39m,\u001b[39m'\u001b[39m\u001b[39mTest set (2017 and beyond)\u001b[39m\u001b[39m'\u001b[39m])\n",
      "File \u001b[0;32m/workspace/.pyenv_mirror/user/current/lib/python3.8/site-packages/pandas/core/frame.py:3807\u001b[0m, in \u001b[0;36mDataFrame.__getitem__\u001b[0;34m(self, key)\u001b[0m\n\u001b[1;32m   3805\u001b[0m \u001b[39mif\u001b[39;00m \u001b[39mself\u001b[39m\u001b[39m.\u001b[39mcolumns\u001b[39m.\u001b[39mnlevels \u001b[39m>\u001b[39m \u001b[39m1\u001b[39m:\n\u001b[1;32m   3806\u001b[0m     \u001b[39mreturn\u001b[39;00m \u001b[39mself\u001b[39m\u001b[39m.\u001b[39m_getitem_multilevel(key)\n\u001b[0;32m-> 3807\u001b[0m indexer \u001b[39m=\u001b[39m \u001b[39mself\u001b[39;49m\u001b[39m.\u001b[39;49mcolumns\u001b[39m.\u001b[39;49mget_loc(key)\n\u001b[1;32m   3808\u001b[0m \u001b[39mif\u001b[39;00m is_integer(indexer):\n\u001b[1;32m   3809\u001b[0m     indexer \u001b[39m=\u001b[39m [indexer]\n",
      "File \u001b[0;32m/workspace/.pyenv_mirror/user/current/lib/python3.8/site-packages/pandas/core/indexes/base.py:3804\u001b[0m, in \u001b[0;36mIndex.get_loc\u001b[0;34m(self, key, method, tolerance)\u001b[0m\n\u001b[1;32m   3802\u001b[0m     \u001b[39mreturn\u001b[39;00m \u001b[39mself\u001b[39m\u001b[39m.\u001b[39m_engine\u001b[39m.\u001b[39mget_loc(casted_key)\n\u001b[1;32m   3803\u001b[0m \u001b[39mexcept\u001b[39;00m \u001b[39mKeyError\u001b[39;00m \u001b[39mas\u001b[39;00m err:\n\u001b[0;32m-> 3804\u001b[0m     \u001b[39mraise\u001b[39;00m \u001b[39mKeyError\u001b[39;00m(key) \u001b[39mfrom\u001b[39;00m \u001b[39merr\u001b[39;00m\n\u001b[1;32m   3805\u001b[0m \u001b[39mexcept\u001b[39;00m \u001b[39mTypeError\u001b[39;00m:\n\u001b[1;32m   3806\u001b[0m     \u001b[39m# If we have a listlike key, _check_indexing_error will raise\u001b[39;00m\n\u001b[1;32m   3807\u001b[0m     \u001b[39m#  InvalidIndexError. Otherwise we fall through and re-raise\u001b[39;00m\n\u001b[1;32m   3808\u001b[0m     \u001b[39m#  the TypeError.\u001b[39;00m\n\u001b[1;32m   3809\u001b[0m     \u001b[39mself\u001b[39m\u001b[39m.\u001b[39m_check_indexing_error(key)\n",
      "\u001b[0;31mKeyError\u001b[0m: 'Close'"
     ]
    }
   ],
   "source": [
    "# Plot of Close attribute for stock prices for train and test sets\n",
    "apple_stock[\"Close\"][:'2016'].plot(figsize=(16,4),legend=True)\n",
    "apple_stock[\"Close\"]['2017':].plot(figsize=(16,4),legend=True)\n",
    "plt.legend(['Training set (Before 2017)','Test set (2017 and beyond)'])\n",
    "plt.title('Apple stock price')\n",
    "plt.show()"
   ]
  },
  {
   "cell_type": "code",
   "execution_count": null,
   "metadata": {},
   "outputs": [],
   "source": [
    "# Scaling the training set\n",
    "sc = MinMaxScaler(feature_range=(0,1))\n",
    "training_set_scaled = sc.fit_transform(training_set)\n",
    "\n",
    "X_train = []\n",
    "y_train = []\n",
    "for i in range(60,2768):\n",
    "    X_train.append(training_set_scaled[i-60:i,0])\n",
    "    y_train.append(training_set_scaled[i,0])\n",
    "X_train, y_train = np.array(X_train), np.array(y_train)"
   ]
  },
  {
   "cell_type": "code",
   "execution_count": null,
   "metadata": {},
   "outputs": [],
   "source": [
    "# Reshape for efficitent modelling\n",
    "X_train = np.reshape(X_train, (X_train.shape[0],X_train.shape[1],1))"
   ]
  },
  {
   "attachments": {},
   "cell_type": "markdown",
   "metadata": {},
   "source": [
    "## Modelling"
   ]
  },
  {
   "cell_type": "code",
   "execution_count": null,
   "metadata": {},
   "outputs": [
    {
     "name": "stderr",
     "output_type": "stream",
     "text": [
      "2023-01-31 22:09:10.326943: W tensorflow/compiler/xla/stream_executor/platform/default/dso_loader.cc:64] Could not load dynamic library 'libcuda.so.1'; dlerror: libcuda.so.1: cannot open shared object file: No such file or directory\n",
      "2023-01-31 22:09:10.326986: W tensorflow/compiler/xla/stream_executor/cuda/cuda_driver.cc:265] failed call to cuInit: UNKNOWN ERROR (303)\n",
      "2023-01-31 22:09:10.327010: I tensorflow/compiler/xla/stream_executor/cuda/cuda_diagnostics.cc:156] kernel driver does not appear to be running on this host (kylo74-timeseriesanalys-m4dh5repsh7): /proc/driver/nvidia/version does not exist\n",
      "2023-01-31 22:09:10.327267: I tensorflow/core/platform/cpu_feature_guard.cc:193] This TensorFlow binary is optimized with oneAPI Deep Neural Network Library (oneDNN) to use the following CPU instructions in performance-critical operations:  AVX2 FMA\n",
      "To enable them in other operations, rebuild TensorFlow with the appropriate compiler flags.\n"
     ]
    },
    {
     "name": "stdout",
     "output_type": "stream",
     "text": [
      "Model: \"sequential\"\n",
      "_________________________________________________________________\n",
      " Layer (type)                Output Shape              Param #   \n",
      "=================================================================\n",
      " lstm (LSTM)                 (None, 60, 50)            10400     \n",
      "                                                                 \n",
      " dropout (Dropout)           (None, 60, 50)            0         \n",
      "                                                                 \n",
      " lstm_1 (LSTM)               (None, 60, 50)            20200     \n",
      "                                                                 \n",
      " dropout_1 (Dropout)         (None, 60, 50)            0         \n",
      "                                                                 \n",
      " lstm_2 (LSTM)               (None, 60, 50)            20200     \n",
      "                                                                 \n",
      " dropout_2 (Dropout)         (None, 60, 50)            0         \n",
      "                                                                 \n",
      " lstm_3 (LSTM)               (None, 50)                20200     \n",
      "                                                                 \n",
      " dropout_3 (Dropout)         (None, 50)                0         \n",
      "                                                                 \n",
      " dense (Dense)               (None, 1)                 51        \n",
      "                                                                 \n",
      "=================================================================\n",
      "Total params: 71,051\n",
      "Trainable params: 71,051\n",
      "Non-trainable params: 0\n",
      "_________________________________________________________________\n"
     ]
    }
   ],
   "source": [
    "# The LSTM architecture\n",
    "regressor = Sequential()\n",
    "regressor.add(LSTM(units=50, return_sequences=True, input_shape=(X_train.shape[1],1)))\n",
    "regressor.add(Dropout(0.2))\n",
    "regressor.add(LSTM(units=50, return_sequences=True))\n",
    "regressor.add(Dropout(0.2))\n",
    "regressor.add(LSTM(units=50, return_sequences=True))\n",
    "regressor.add(Dropout(0.2))\n",
    "regressor.add(LSTM(units=50))\n",
    "regressor.add(Dropout(0.2))\n",
    "regressor.add(Dense(units=1))\n",
    "\n",
    "# Compiling the RNN\n",
    "regressor.compile(optimizer='rmsprop',loss='mean_squared_error')\n",
    "# Summary of the model\n",
    "regressor.summary()"
   ]
  },
  {
   "attachments": {},
   "cell_type": "markdown",
   "metadata": {},
   "source": [
    "### Fitting the model to the training data set"
   ]
  },
  {
   "cell_type": "code",
   "execution_count": null,
   "metadata": {},
   "outputs": [
    {
     "name": "stdout",
     "output_type": "stream",
     "text": [
      "Epoch 1/50\n",
      "85/85 [==============================] - 14s 93ms/step - loss: 0.0165\n",
      "Epoch 2/50\n",
      "85/85 [==============================] - 6s 72ms/step - loss: 0.0067\n",
      "Epoch 3/50\n",
      "85/85 [==============================] - 6s 69ms/step - loss: 0.0060\n",
      "Epoch 4/50\n",
      "85/85 [==============================] - 6s 68ms/step - loss: 0.0050\n",
      "Epoch 5/50\n",
      "85/85 [==============================] - 6s 70ms/step - loss: 0.0045\n",
      "Epoch 6/50\n",
      "85/85 [==============================] - 6s 77ms/step - loss: 0.0044\n",
      "Epoch 7/50\n",
      "85/85 [==============================] - 6s 76ms/step - loss: 0.0037\n",
      "Epoch 8/50\n",
      "85/85 [==============================] - 7s 79ms/step - loss: 0.0035\n",
      "Epoch 9/50\n",
      "85/85 [==============================] - 6s 75ms/step - loss: 0.0032\n",
      "Epoch 10/50\n",
      "85/85 [==============================] - 7s 83ms/step - loss: 0.0031\n",
      "Epoch 11/50\n",
      "85/85 [==============================] - 7s 83ms/step - loss: 0.0029\n",
      "Epoch 12/50\n",
      "85/85 [==============================] - 6s 76ms/step - loss: 0.0027\n",
      "Epoch 13/50\n",
      "85/85 [==============================] - 6s 76ms/step - loss: 0.0025\n",
      "Epoch 14/50\n",
      "85/85 [==============================] - 7s 78ms/step - loss: 0.0025\n",
      "Epoch 15/50\n",
      "85/85 [==============================] - 7s 88ms/step - loss: 0.0025\n",
      "Epoch 16/50\n",
      "85/85 [==============================] - 9s 102ms/step - loss: 0.0024\n",
      "Epoch 17/50\n",
      "85/85 [==============================] - 7s 84ms/step - loss: 0.0023\n",
      "Epoch 18/50\n",
      "85/85 [==============================] - 6s 71ms/step - loss: 0.0023\n",
      "Epoch 19/50\n",
      "85/85 [==============================] - 6s 72ms/step - loss: 0.0022\n",
      "Epoch 20/50\n",
      "85/85 [==============================] - 9s 104ms/step - loss: 0.0021\n",
      "Epoch 21/50\n",
      "85/85 [==============================] - 8s 90ms/step - loss: 0.0020\n",
      "Epoch 22/50\n",
      "85/85 [==============================] - 6s 72ms/step - loss: 0.0021\n",
      "Epoch 23/50\n",
      "85/85 [==============================] - 6s 70ms/step - loss: 0.0020\n",
      "Epoch 24/50\n",
      "85/85 [==============================] - 8s 97ms/step - loss: 0.0020\n",
      "Epoch 25/50\n",
      "85/85 [==============================] - 8s 98ms/step - loss: 0.0019\n",
      "Epoch 26/50\n",
      "85/85 [==============================] - 6s 75ms/step - loss: 0.0020\n",
      "Epoch 27/50\n",
      "85/85 [==============================] - 7s 82ms/step - loss: 0.0017\n",
      "Epoch 28/50\n",
      "85/85 [==============================] - 9s 106ms/step - loss: 0.0019\n",
      "Epoch 29/50\n",
      "85/85 [==============================] - 9s 104ms/step - loss: 0.0019\n",
      "Epoch 30/50\n",
      "85/85 [==============================] - 9s 102ms/step - loss: 0.0018\n",
      "Epoch 31/50\n",
      "85/85 [==============================] - 8s 92ms/step - loss: 0.0016\n",
      "Epoch 32/50\n",
      "85/85 [==============================] - 7s 77ms/step - loss: 0.0015\n",
      "Epoch 33/50\n",
      "85/85 [==============================] - 6s 75ms/step - loss: 0.0017\n",
      "Epoch 34/50\n",
      "85/85 [==============================] - 9s 104ms/step - loss: 0.0017\n",
      "Epoch 35/50\n",
      "85/85 [==============================] - 7s 88ms/step - loss: 0.0017\n",
      "Epoch 36/50\n",
      "85/85 [==============================] - 6s 72ms/step - loss: 0.0015\n",
      "Epoch 37/50\n",
      "85/85 [==============================] - 6s 72ms/step - loss: 0.0016\n",
      "Epoch 38/50\n",
      "85/85 [==============================] - 9s 103ms/step - loss: 0.0016\n",
      "Epoch 39/50\n",
      "85/85 [==============================] - 8s 96ms/step - loss: 0.0015\n",
      "Epoch 40/50\n",
      "85/85 [==============================] - 6s 72ms/step - loss: 0.0014\n",
      "Epoch 41/50\n",
      "85/85 [==============================] - 6s 75ms/step - loss: 0.0016\n",
      "Epoch 42/50\n",
      "85/85 [==============================] - 6s 71ms/step - loss: 0.0014\n",
      "Epoch 43/50\n",
      "85/85 [==============================] - 6s 74ms/step - loss: 0.0015\n",
      "Epoch 44/50\n",
      "85/85 [==============================] - 7s 82ms/step - loss: 0.0014\n",
      "Epoch 45/50\n",
      "85/85 [==============================] - 9s 104ms/step - loss: 0.0014\n",
      "Epoch 46/50\n",
      "85/85 [==============================] - 7s 83ms/step - loss: 0.0014\n",
      "Epoch 47/50\n",
      "85/85 [==============================] - 6s 75ms/step - loss: 0.0013\n",
      "Epoch 48/50\n",
      "85/85 [==============================] - 7s 80ms/step - loss: 0.0014\n",
      "Epoch 49/50\n",
      "85/85 [==============================] - 9s 101ms/step - loss: 0.0013\n",
      "Epoch 50/50\n",
      "85/85 [==============================] - 7s 85ms/step - loss: 0.0013\n"
     ]
    },
    {
     "data": {
      "text/plain": [
       "<keras.callbacks.History at 0x7fe59c7c6e50>"
      ]
     },
     "execution_count": 24,
     "metadata": {},
     "output_type": "execute_result"
    }
   ],
   "source": [
    "regressor.fit(X_train,y_train,epochs=50,batch_size=32)"
   ]
  },
  {
   "cell_type": "code",
   "execution_count": null,
   "metadata": {},
   "outputs": [],
   "source": [
    "apple_stock_total = pd.concat((apple_stock[\"Close\"][:'2016'],apple_stock[\"Close\"]['2017':]),axis=0)\n",
    "inputs = apple_stock_total[len(apple_stock_total)-len(test_set) - 60:].values\n",
    "inputs = inputs.reshape(-1,1)\n",
    "inputs  = sc.transform(inputs)"
   ]
  },
  {
   "attachments": {},
   "cell_type": "markdown",
   "metadata": {},
   "source": [
    "## Predicting prices and visualising predictions"
   ]
  },
  {
   "cell_type": "code",
   "execution_count": null,
   "metadata": {},
   "outputs": [
    {
     "name": "stdout",
     "output_type": "stream",
     "text": [
      "8/8 [==============================] - 1s 31ms/step\n"
     ]
    }
   ],
   "source": [
    "X_test = []\n",
    "for i in range(60,311):\n",
    "    X_test.append(inputs[i-60:i,0])\n",
    "X_test = np.array(X_test)\n",
    "X_test = np.reshape(X_test, (X_test.shape[0],X_test.shape[1],1))\n",
    "predicted_stock_price = regressor.predict(X_test)\n",
    "predicted_stock_price = sc.inverse_transform(predicted_stock_price)"
   ]
  },
  {
   "cell_type": "code",
   "execution_count": null,
   "metadata": {},
   "outputs": [
    {
     "ename": "NameError",
     "evalue": "name 'plot_predictions' is not defined",
     "output_type": "error",
     "traceback": [
      "\u001b[0;31m---------------------------------------------------------------------------\u001b[0m",
      "\u001b[0;31mNameError\u001b[0m                                 Traceback (most recent call last)",
      "Cell \u001b[0;32mIn[2], line 1\u001b[0m\n\u001b[0;32m----> 1\u001b[0m plot_predictions(test_set,predicted_stock_price)\n",
      "\u001b[0;31mNameError\u001b[0m: name 'plot_predictions' is not defined"
     ]
    }
   ],
   "source": [
    "plot_predictions(test_set,predicted_stock_price)"
   ]
  },
  {
   "attachments": {},
   "cell_type": "markdown",
   "metadata": {},
   "source": [
    "## Model Evaluation\n"
   ]
  },
  {
   "cell_type": "code",
   "execution_count": null,
   "metadata": {},
   "outputs": [
    {
     "ename": "NameError",
     "evalue": "name 'return_rmse' is not defined",
     "output_type": "error",
     "traceback": [
      "\u001b[0;31m---------------------------------------------------------------------------\u001b[0m",
      "\u001b[0;31mNameError\u001b[0m                                 Traceback (most recent call last)",
      "Cell \u001b[0;32mIn[1], line 2\u001b[0m\n\u001b[1;32m      1\u001b[0m \u001b[39m# Evaluating our model\u001b[39;00m\n\u001b[0;32m----> 2\u001b[0m return_rmse(test_set,predicted_stock_price)\n",
      "\u001b[0;31mNameError\u001b[0m: name 'return_rmse' is not defined"
     ]
    }
   ],
   "source": [
    "# Evaluating our model\n",
    "return_rmse(test_set,predicted_stock_price)"
   ]
  }
 ],
 "metadata": {
  "kernelspec": {
   "display_name": "Python 3",
   "language": "python",
   "name": "python3"
  },
  "language_info": {
   "codemirror_mode": {
    "name": "ipython",
    "version": 3
   },
   "file_extension": ".py",
   "mimetype": "text/x-python",
   "name": "python",
   "nbconvert_exporter": "python",
   "pygments_lexer": "ipython3",
   "version": "3.8.16"
  },
  "orig_nbformat": 4,
  "vscode": {
   "interpreter": {
    "hash": "9ac03a0a6051494cc606d484d27d20fce22fb7b4d169f583271e11d5ba46a56e"
   }
  }
 },
 "nbformat": 4,
 "nbformat_minor": 2
}
